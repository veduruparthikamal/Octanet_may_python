{
 "cells": [
  {
   "cell_type": "code",
   "execution_count": null,
   "id": "b9a1f6af",
   "metadata": {},
   "outputs": [
    {
     "name": "stdout",
     "output_type": "stream",
     "text": [
      "Please insert your CARD \n",
      "Plese enter your PIN 1122\n",
      "\n",
      "            1 == balance\n",
      "            2 == Withdraw balance\n",
      "            3 == Deposit balance\n",
      "            4 == Exit\n",
      "            \n",
      "Please enter your choice 3\n",
      "\n",
      "Plese enter amount 10263\n",
      "\n",
      "Your balance is 15263\n",
      "\n",
      "            1 == balance\n",
      "            2 == Withdraw balance\n",
      "            3 == Deposit balance\n",
      "            4 == Exit\n",
      "            \n"
     ]
    }
   ],
   "source": [
    "import time\n",
    "print(\"Please insert your CARD \")\n",
    "time.sleep(2)\n",
    "\n",
    "password=1122\n",
    "pin=int(input(\"Plese enter your PIN \"))\n",
    "\n",
    "balance=5000\n",
    "\n",
    "if((pin == password)):\n",
    "    while True:\n",
    "        print(\"\"\"\n",
    "            1 == balance\n",
    "            2 == Withdraw balance\n",
    "            3 == Deposit balance\n",
    "            4 == Exit\n",
    "            \"\"\"\"\")\n",
    "        try:\n",
    "            option=int(input(\"Please enter your choice \"))\n",
    "        except:\n",
    "            print(f\"Please enter valid option \")\n",
    "        if option <= 4:\n",
    "            \n",
    "            if option == 1:\n",
    "                print(f\"Your balance is {balance}\")\n",
    "\n",
    "            if option == 2:\n",
    "                amount=int(input(\"\\nPlese enter amount \"))\n",
    "                withdraw= balance-amount\n",
    "                print(f\"\\nYour balance is {withdraw}\")\n",
    "\n",
    "            if option == 3:\n",
    "                amount=int(input(\"\\nPlese enter amount \"))\n",
    "                deposit= balance+amount\n",
    "                print(f\"\\nYour balance is {deposit}\")\n",
    "\n",
    "            if option == 4:\n",
    "                print(f\"Exit\")\n",
    "                break\n",
    "        \n",
    "        else:\n",
    "            print(f\" No option found. Please Try again\")\n",
    "    \n",
    "else:\n",
    "    print(\"Wrong Pin\\nYour transcation cancelled\")"
   ]
  }
 ],
 "metadata": {
  "kernelspec": {
   "display_name": "Python 3 (ipykernel)",
   "language": "python",
   "name": "python3"
  },
  "language_info": {
   "codemirror_mode": {
    "name": "ipython",
    "version": 3
   },
   "file_extension": ".py",
   "mimetype": "text/x-python",
   "name": "python",
   "nbconvert_exporter": "python",
   "pygments_lexer": "ipython3",
   "version": "3.11.5"
  }
 },
 "nbformat": 4,
 "nbformat_minor": 5
}
